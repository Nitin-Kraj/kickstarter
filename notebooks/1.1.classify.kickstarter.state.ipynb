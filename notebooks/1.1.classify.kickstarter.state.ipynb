{
 "cells": [
  {
   "cell_type": "markdown",
   "metadata": {},
   "source": [
    "In this notebook file, I perform the kickstart state classification. Through this, I utilize six classification algorithm: K-Nearest Neighbors, Decision Tree, Adaboost/Decision Tree, Random Forest, Adaboost/Random Forest and Nive Bayes. All the classification methods are adopted from `sklearn`. I use `sklearn` and `seaborn` for displaying overall classification performance and confusion matrix.\n",
    "\n",
    "The classification of kickstarter state is broken to the following steps:\n",
    " 1. Set-up dependencies\n",
    " 2. Load data\n",
    " 3. Normalize data\n",
    " 4. Build evaluation data\n",
    " 5. Build model\n",
    " 6. Train model\n",
    " 7. Evaluate\n",
    " 8. Predict"
   ]
  },
  {
   "cell_type": "markdown",
   "metadata": {},
   "source": [
    "## 1. Import dependencies"
   ]
  },
  {
   "cell_type": "code",
   "execution_count": 1,
   "metadata": {},
   "outputs": [
    {
     "name": "stderr",
     "output_type": "stream",
     "text": [
      "/home/aidin/miniconda3/envs/kickstarter/lib/python3.7/site-packages/sklearn/utils/__init__.py:4: DeprecationWarning: Using or importing the ABCs from 'collections' instead of from 'collections.abc' is deprecated, and in 3.8 it will stop working\n",
      "  from collections import Sequence\n",
      "/home/aidin/miniconda3/envs/kickstarter/lib/python3.7/site-packages/sklearn/ensemble/weight_boosting.py:29: DeprecationWarning: numpy.core.umath_tests is an internal NumPy module and should not be imported. It will be removed in a future NumPy release.\n",
      "  from numpy.core.umath_tests import inner1d\n"
     ]
    }
   ],
   "source": [
    "import os, inspect, sys\n",
    "from sklearn.metrics import confusion_matrix\n",
    "from sklearn.metrics import classification_report\n",
    "\n",
    "# get path to current and root directories\n",
    "CURR_DIR = os.path.dirname(inspect.getabsfile(inspect.currentframe()))\n",
    "ROOT_DIR = os.path.dirname(CURR_DIR)\n",
    "sys.path.insert(0, ROOT_DIR)\n",
    "\n",
    "from kickstarter.data import Data\n",
    "from kickstarter.model import KNeighbors\n",
    "from kickstarter.model import CSupportVector\n",
    "from kickstarter.model import DecisionTree\n",
    "from kickstarter.model import RandomForest\n",
    "from kickstarter.model import AdaBoost\n",
    "from kickstarter.model import GaussianNaiveBayes\n",
    "from kickstarter import print_confusion_matrix"
   ]
  },
  {
   "cell_type": "markdown",
   "metadata": {},
   "source": [
    "## 2. Load data"
   ]
  },
  {
   "cell_type": "code",
   "execution_count": 2,
   "metadata": {},
   "outputs": [
    {
     "name": "stdout",
     "output_type": "stream",
     "text": [
      "# samples on kickstarter set: 331672\n"
     ]
    }
   ],
   "source": [
    "class_names = [\"Successful\", \"Falied\"]\n",
    "fname = os.path.join(ROOT_DIR, \"kickstarter\", \"data\", \"ext\", \"data_clean.csv\")\n",
    "subset = None\n",
    "random_state = 2018\n",
    "test_ratio = 0.3\n",
    "\n",
    "data = Data(fname=fname, random_state=random_state)\n",
    "x, y = data.load(subset=subset)\n",
    "print(f\"# samples on kickstarter set: {x.shape[0]}\")"
   ]
  },
  {
   "cell_type": "markdown",
   "metadata": {},
   "source": [
    "## 3. Normalize data"
   ]
  },
  {
   "cell_type": "code",
   "execution_count": 3,
   "metadata": {},
   "outputs": [],
   "source": [
    "# current available options: 'min-max', 'standard', 'robust'\n",
    "x = data.normalize(x, algorithm=\"robust\")"
   ]
  },
  {
   "cell_type": "markdown",
   "metadata": {},
   "source": [
    "## 4. Build Evaluation data"
   ]
  },
  {
   "cell_type": "code",
   "execution_count": 4,
   "metadata": {},
   "outputs": [
    {
     "name": "stdout",
     "output_type": "stream",
     "text": [
      "# samples on train set: 232170\n",
      "# samples on test set: 99502\n"
     ]
    }
   ],
   "source": [
    "x_train, x_test, y_train, y_test = data.split(x, y,test_ratio=test_ratio)\n",
    "\n",
    "print(f\"# samples on train set: {x_train.shape[0]}\")\n",
    "print(f\"# samples on test set: {x_test.shape[0]}\")"
   ]
  },
  {
   "cell_type": "markdown",
   "metadata": {},
   "source": [
    "## 5. Build model"
   ]
  },
  {
   "cell_type": "code",
   "execution_count": 5,
   "metadata": {},
   "outputs": [],
   "source": [
    "# model = KNeighbors(n_neighbors=10) # train acc: 95.6%/test acc:94.8%\n",
    "\n",
    "# model = DecisionTree(\n",
    "#     max_depth=10,\n",
    "#     random_state=random_state) # train acc:99.9% /test acc: 99.8%\n",
    "\n",
    "# model = AdaBoost(\n",
    "#     base_estimator=DecisionTree(max_depth=10),\n",
    "#     random_state=random_state) # train acc:100.0%/test acc:99.8%\n",
    "\n",
    "# model = RandomForest(\n",
    "#     max_depth=10,\n",
    "#     n_estimators=15,\n",
    "#     max_features=5,\n",
    "#     random_state=random_state) # train acc:99.9%/test acc:99.9%\n",
    "\n",
    "# model = AdaBoost(\n",
    "#     base_estimator=RandomForest(max_depth=10,\n",
    "#                                 n_estimators=15,\n",
    "#                                 max_features=5),\n",
    "#     random_state=random_state) # train acc:100.0%/test acc:99.9%\n",
    "model = GaussianNaiveBayes() # train acc:74.4 /test accuray:74.3\n",
    "# model = CSupportVector(gamma=2, C=1) # train accuracy: /test accuray:\n"
   ]
  },
  {
   "cell_type": "markdown",
   "metadata": {},
   "source": [
    "## 6. Train model"
   ]
  },
  {
   "cell_type": "code",
   "execution_count": 6,
   "metadata": {},
   "outputs": [],
   "source": [
    "model.fit(x_train, y_train)"
   ]
  },
  {
   "cell_type": "markdown",
   "metadata": {},
   "source": [
    "## 7. Evaluate model"
   ]
  },
  {
   "cell_type": "code",
   "execution_count": 7,
   "metadata": {},
   "outputs": [
    {
     "name": "stdout",
     "output_type": "stream",
     "text": [
      "Overall accuracy on train set: 74.40926907007795\n",
      "Overall accuracy on test set: 74.30805410946513\n"
     ]
    }
   ],
   "source": [
    "score_train = model.score(x_train, y_train)*100\n",
    "score_test = model.score(x_test, y_test)*100\n",
    "print(f\"Overall accuracy on train set: {score_train}\")\n",
    "print(f\"Overall accuracy on test set: {score_test}\")"
   ]
  },
  {
   "cell_type": "markdown",
   "metadata": {},
   "source": [
    "## 8. Predict"
   ]
  },
  {
   "cell_type": "code",
   "execution_count": 8,
   "metadata": {},
   "outputs": [],
   "source": [
    "yhat_test = model.predict(x_test)\n",
    "cnf_matrix = confusion_matrix(y_test, yhat_test)"
   ]
  },
  {
   "cell_type": "code",
   "execution_count": 9,
   "metadata": {},
   "outputs": [
    {
     "name": "stdout",
     "output_type": "stream",
     "text": [
      "             precision    recall  f1-score   support\n",
      "\n",
      " Successful       0.71      0.98      0.82     59315\n",
      "     Falied       0.92      0.40      0.56     40187\n",
      "\n",
      "avg / total       0.79      0.74      0.71     99502\n",
      "\n"
     ]
    }
   ],
   "source": [
    "# print classification detailed scores\n",
    "print(classification_report(y_test, yhat_test, target_names=class_names))"
   ]
  },
  {
   "cell_type": "code",
   "execution_count": 10,
   "metadata": {},
   "outputs": [
    {
     "data": {
      "image/png": "[encoded data removed]",
      "text/plain": [
       "<Figure size 504x360 with 2 Axes>"
      ]
     },
     "metadata": {},
     "output_type": "display_data"
    }
   ],
   "source": [
    "# print confusion matrix\n",
    "_ = print_confusion_matrix(confusion_matrix=cnf_matrix,\n",
    "                           class_names=class_names,\n",
    "                           figsize=(7,5))"
   ]
  },
  {
   "cell_type": "code",
   "execution_count": null,
   "metadata": {},
   "outputs": [],
   "source": []
  }
 ],
 "metadata": {
  "kernelspec": {
   "display_name": "Python 3",
   "language": "python",
   "name": "python3"
  },
  "language_info": {
   "codemirror_mode": {
    "name": "ipython",
    "version": 3
   },
   "file_extension": ".py",
   "mimetype": "text/x-python",
   "name": "python",
   "nbconvert_exporter": "python",
   "pygments_lexer": "ipython3",
   "version": "3.6.5"
  }
 },
 "nbformat": 4,
 "nbformat_minor": 2
}
