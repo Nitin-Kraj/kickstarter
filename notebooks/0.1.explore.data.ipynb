{
 "cells": [
  {
   "cell_type": "markdown",
   "metadata": {},
   "source": [
    "In this notebook file, I perform data exploration and cleaning for the kickstarter classification. Through this, I mainly rely on `pandas` and `sklearn` for data exploration and pre-processing. I utilize `matplotlib`, `seaborn` packages for data visualization.\n",
    "\n",
    "The data exploration here is broken to the following steps:\n",
    " 1. Set-up dependencies\n",
    " 2. Load data\n",
    " 3. Explore data structure\n",
    " 4. Check on missing values\n",
    " 5. Check on duplicate rows\n",
    " 6. Parse datetime variables \n",
    " 7. Check on outliers\n",
    " 8. Encode categorical variables\n",
    " 10. Save data"
   ]
  },
  {
   "cell_type": "markdown",
   "metadata": {},
   "source": [
    "## 1. Set-up Dependencies\n",
    "First things first, I import all dependencies and set up the current and the project directories:"
   ]
  },
  {
   "cell_type": "code",
   "execution_count": 1,
   "metadata": {},
   "outputs": [
    {
     "name": "stderr",
     "output_type": "stream",
     "text": [
      "/home/aidin/miniconda3/envs/kickstarter/lib/python3.7/site-packages/sklearn/utils/__init__.py:4: DeprecationWarning: Using or importing the ABCs from 'collections' instead of from 'collections.abc' is deprecated, and in 3.8 it will stop working\n",
      "  from collections import Sequence\n"
     ]
    }
   ],
   "source": [
    " %matplotlib inline\n",
    "import os, inspect\n",
    "import pandas as pd\n",
    "import matplotlib.pyplot as plt\n",
    "import seaborn as sns\n",
    "from sklearn.preprocessing import LabelEncoder\n",
    "\n",
    "\n",
    "# get path to current and root directories\n",
    "CURR_DIR = os.path.dirname(inspect.getabsfile(inspect.currentframe()))\n",
    "ROOT_DIR = os.path.dirname(CURR_DIR)"
   ]
  },
  {
   "cell_type": "markdown",
   "metadata": {},
   "source": [
    "## 2. Load data\n",
    "I load data to a pandas data frame with `read_csv` method and name it `df` :"
   ]
  },
  {
   "cell_type": "code",
   "execution_count": 2,
   "metadata": {},
   "outputs": [],
   "source": [
    "fname = os.path.join(ROOT_DIR, \"kickstarter\", \"data\", \"raw\", \"data.csv\")\n",
    "df = pd.read_csv(fname)"
   ]
  },
  {
   "cell_type": "markdown",
   "metadata": {},
   "source": [
    "I make a deep copy of the data frame first. This allows me to modify data freely while I always have the original data for further reference."
   ]
  },
  {
   "cell_type": "code",
   "execution_count": 3,
   "metadata": {},
   "outputs": [],
   "source": [
    "df_raw = df.copy(deep=True)"
   ]
  },
  {
   "cell_type": "markdown",
   "metadata": {},
   "source": [
    "## 3. Explore data structure\n",
    "Once the data has been loaded, I look at the basic structure of the data using the `head()` method to print out the first five rows. I also print out the column names, the shape and the data types. By this, I can get a general idea of the structure of data and data columns."
   ]
  },
  {
   "cell_type": "code",
   "execution_count": 4,
   "metadata": {},
   "outputs": [
    {
     "name": "stdout",
     "output_type": "stream",
     "text": [
      "------------------------------ columns ------------------------------\n",
      "\n",
      "Index(['ID', 'name', 'category', 'main_category', 'currency', 'deadline',\n",
      "       'goal', 'launched', 'pledged', 'state', 'backers', 'country',\n",
      "       'usd pledged', 'usd_pledged_real', 'usd_goal_real'],\n",
      "      dtype='object')\n",
      "------------------------------ shap e------------------------------\n",
      "\n",
      "(378661, 15)\n",
      "------------------------------ data types ------------------------------\n",
      "\n",
      "ID                    int64\n",
      "name                 object\n",
      "category             object\n",
      "main_category        object\n",
      "currency             object\n",
      "deadline             object\n",
      "goal                float64\n",
      "launched             object\n",
      "pledged             float64\n",
      "state                object\n",
      "backers               int64\n",
      "country              object\n",
      "usd pledged         float64\n",
      "usd_pledged_real    float64\n",
      "usd_goal_real       float64\n",
      "dtype: object\n",
      "------------------------------ top 5 rows ------------------------------\n",
      "\n"
     ]
    },
    {
     "data": {
      "text/html": [
       "<div>\n",
       "<style scoped>\n",
       "    .dataframe tbody tr th:only-of-type {\n",
       "        vertical-align: middle;\n",
       "    }\n",
       "\n",
       "    .dataframe tbody tr th {\n",
       "        vertical-align: top;\n",
       "    }\n",
       "\n",
       "    .dataframe thead th {\n",
       "        text-align: right;\n",
       "    }\n",
       "</style>\n",
       "<table border=\"1\" class=\"dataframe\">\n",
       "  <thead>\n",
       "    <tr style=\"text-align: right;\">\n",
       "      <th></th>\n",
       "      <th>ID</th>\n",
       "      <th>name</th>\n",
       "      <th>category</th>\n",
       "      <th>main_category</th>\n",
       "      <th>currency</th>\n",
       "      <th>deadline</th>\n",
       "      <th>goal</th>\n",
       "      <th>launched</th>\n",
       "      <th>pledged</th>\n",
       "      <th>state</th>\n",
       "      <th>backers</th>\n",
       "      <th>country</th>\n",
       "      <th>usd pledged</th>\n",
       "      <th>usd_pledged_real</th>\n",
       "      <th>usd_goal_real</th>\n",
       "    </tr>\n",
       "  </thead>\n",
       "  <tbody>\n",
       "    <tr>\n",
       "      <th>0</th>\n",
       "      <td>1000002330</td>\n",
       "      <td>The Songs of Adelaide &amp; Abullah</td>\n",
       "      <td>Poetry</td>\n",
       "      <td>Publishing</td>\n",
       "      <td>GBP</td>\n",
       "      <td>2015-10-09</td>\n",
       "      <td>1000.0</td>\n",
       "      <td>2015-08-11 12:12:28</td>\n",
       "      <td>0.0</td>\n",
       "      <td>failed</td>\n",
       "      <td>0</td>\n",
       "      <td>GB</td>\n",
       "      <td>0.0</td>\n",
       "      <td>0.0</td>\n",
       "      <td>1533.95</td>\n",
       "    </tr>\n",
       "    <tr>\n",
       "      <th>1</th>\n",
       "      <td>1000003930</td>\n",
       "      <td>Greeting From Earth: ZGAC Arts Capsule For ET</td>\n",
       "      <td>Narrative Film</td>\n",
       "      <td>Film &amp; Video</td>\n",
       "      <td>USD</td>\n",
       "      <td>2017-11-01</td>\n",
       "      <td>30000.0</td>\n",
       "      <td>2017-09-02 04:43:57</td>\n",
       "      <td>2421.0</td>\n",
       "      <td>failed</td>\n",
       "      <td>15</td>\n",
       "      <td>US</td>\n",
       "      <td>100.0</td>\n",
       "      <td>2421.0</td>\n",
       "      <td>30000.00</td>\n",
       "    </tr>\n",
       "    <tr>\n",
       "      <th>2</th>\n",
       "      <td>1000004038</td>\n",
       "      <td>Where is Hank?</td>\n",
       "      <td>Narrative Film</td>\n",
       "      <td>Film &amp; Video</td>\n",
       "      <td>USD</td>\n",
       "      <td>2013-02-26</td>\n",
       "      <td>45000.0</td>\n",
       "      <td>2013-01-12 00:20:50</td>\n",
       "      <td>220.0</td>\n",
       "      <td>failed</td>\n",
       "      <td>3</td>\n",
       "      <td>US</td>\n",
       "      <td>220.0</td>\n",
       "      <td>220.0</td>\n",
       "      <td>45000.00</td>\n",
       "    </tr>\n",
       "    <tr>\n",
       "      <th>3</th>\n",
       "      <td>1000007540</td>\n",
       "      <td>ToshiCapital Rekordz Needs Help to Complete Album</td>\n",
       "      <td>Music</td>\n",
       "      <td>Music</td>\n",
       "      <td>USD</td>\n",
       "      <td>2012-04-16</td>\n",
       "      <td>5000.0</td>\n",
       "      <td>2012-03-17 03:24:11</td>\n",
       "      <td>1.0</td>\n",
       "      <td>failed</td>\n",
       "      <td>1</td>\n",
       "      <td>US</td>\n",
       "      <td>1.0</td>\n",
       "      <td>1.0</td>\n",
       "      <td>5000.00</td>\n",
       "    </tr>\n",
       "    <tr>\n",
       "      <th>4</th>\n",
       "      <td>1000011046</td>\n",
       "      <td>Community Film Project: The Art of Neighborhoo...</td>\n",
       "      <td>Film &amp; Video</td>\n",
       "      <td>Film &amp; Video</td>\n",
       "      <td>USD</td>\n",
       "      <td>2015-08-29</td>\n",
       "      <td>19500.0</td>\n",
       "      <td>2015-07-04 08:35:03</td>\n",
       "      <td>1283.0</td>\n",
       "      <td>canceled</td>\n",
       "      <td>14</td>\n",
       "      <td>US</td>\n",
       "      <td>1283.0</td>\n",
       "      <td>1283.0</td>\n",
       "      <td>19500.00</td>\n",
       "    </tr>\n",
       "  </tbody>\n",
       "</table>\n",
       "</div>"
      ],
      "text/plain": [
       "           ID                                               name  \\\n",
       "0  1000002330                    The Songs of Adelaide & Abullah   \n",
       "1  1000003930      Greeting From Earth: ZGAC Arts Capsule For ET   \n",
       "2  1000004038                                     Where is Hank?   \n",
       "3  1000007540  ToshiCapital Rekordz Needs Help to Complete Album   \n",
       "4  1000011046  Community Film Project: The Art of Neighborhoo...   \n",
       "\n",
       "         category main_category currency    deadline     goal  \\\n",
       "0          Poetry    Publishing      GBP  2015-10-09   1000.0   \n",
       "1  Narrative Film  Film & Video      USD  2017-11-01  30000.0   \n",
       "2  Narrative Film  Film & Video      USD  2013-02-26  45000.0   \n",
       "3           Music         Music      USD  2012-04-16   5000.0   \n",
       "4    Film & Video  Film & Video      USD  2015-08-29  19500.0   \n",
       "\n",
       "              launched  pledged     state  backers country  usd pledged  \\\n",
       "0  2015-08-11 12:12:28      0.0    failed        0      GB          0.0   \n",
       "1  2017-09-02 04:43:57   2421.0    failed       15      US        100.0   \n",
       "2  2013-01-12 00:20:50    220.0    failed        3      US        220.0   \n",
       "3  2012-03-17 03:24:11      1.0    failed        1      US          1.0   \n",
       "4  2015-07-04 08:35:03   1283.0  canceled       14      US       1283.0   \n",
       "\n",
       "   usd_pledged_real  usd_goal_real  \n",
       "0               0.0        1533.95  \n",
       "1            2421.0       30000.00  \n",
       "2             220.0       45000.00  \n",
       "3               1.0        5000.00  \n",
       "4            1283.0       19500.00  "
      ]
     },
     "execution_count": 4,
     "metadata": {},
     "output_type": "execute_result"
    }
   ],
   "source": [
    "print(\"-\"*30 + \" columns \" + \"-\"*30 + os.linesep)\n",
    "print(repr(df.columns))\n",
    "print(\"-\"*30 + \" shap e\" + \"-\"*30 + os.linesep)\n",
    "print(df.shape)\n",
    "print(\"-\"*30 + \" data types \" + \"-\"*30 + os.linesep)\n",
    "print(df.dtypes)\n",
    "print(\"-\"*30 + \" top 5 rows \" + \"-\"*30 + os.linesep)\n",
    "df.head()"
   ]
  },
  {
   "cell_type": "markdown",
   "metadata": {},
   "source": [
    "Here, I can see  that the kickstarter data frame has 15 columns. All the column labels are in lowercase which is the way I usually prefer to work with. There are no redundant columns and everything looks fine.\n",
    "Moreover, I see the data frame includes several categorical variables that can have connections to the target prediction variable (state). I might consider encoding of the categorical variables into numeric variables."
   ]
  },
  {
   "cell_type": "markdown",
   "metadata": {},
   "source": [
    "Let's look at the unique values of each categorical variables:"
   ]
  },
  {
   "cell_type": "code",
   "execution_count": 5,
   "metadata": {},
   "outputs": [
    {
     "name": "stdout",
     "output_type": "stream",
     "text": [
      "main_category labels:   array(['Publishing', 'Film & Video', 'Music', 'Food', 'Design', 'Crafts',\n",
      "       'Games', 'Comics', 'Fashion', 'Theater', 'Art', 'Photography',\n",
      "       'Technology', 'Dance', 'Journalism'], dtype=object)\n",
      "category labels:   array(['Poetry', 'Narrative Film', 'Music', 'Film & Video', 'Restaurants',\n",
      "       'Food', 'Drinks', 'Product Design', 'Documentary', 'Nonfiction',\n",
      "       'Indie Rock', 'Crafts', 'Games', 'Tabletop Games', 'Design',\n",
      "       'Comic Books', 'Art Books', 'Fashion', 'Childrenswear', 'Theater',\n",
      "       'Comics', 'DIY', 'Webseries', 'Animation', 'Food Trucks',\n",
      "       'Public Art', 'Illustration', 'Photography', 'Pop', 'People',\n",
      "       'Art', 'Family', 'Fiction', 'Accessories', 'Rock', 'Hardware',\n",
      "       'Software', 'Weaving', 'Gadgets', 'Web', 'Jazz', 'Ready-to-wear',\n",
      "       'Festivals', 'Video Games', 'Anthologies', 'Publishing', 'Shorts',\n",
      "       'Electronic Music', 'Radio & Podcasts', 'Apps', 'Cookbooks',\n",
      "       'Apparel', 'Metal', 'Comedy', 'Hip-Hop', 'Periodicals', 'Dance',\n",
      "       'Technology', 'Painting', 'World Music', 'Photobooks', 'Drama',\n",
      "       'Architecture', 'Young Adult', 'Latin', 'Mobile Games', 'Flight',\n",
      "       'Fine Art', 'Action', 'Playing Cards', 'Makerspaces', 'Punk',\n",
      "       'Thrillers', \"Children's Books\", 'Audio', 'Performance Art',\n",
      "       'Ceramics', 'Vegan', 'Graphic Novels', 'Fabrication Tools',\n",
      "       'Performances', 'Sculpture', 'Sound', 'Stationery', 'Print',\n",
      "       \"Farmer's Markets\", 'Events', 'Classical Music', 'Graphic Design',\n",
      "       'Spaces', 'Country & Folk', 'Wearables', 'Mixed Media',\n",
      "       'Journalism', 'Movie Theaters', 'Animals', 'Digital Art', 'Horror',\n",
      "       'Knitting', 'Small Batch', 'Installations', 'Community Gardens',\n",
      "       'DIY Electronics', 'Embroidery', 'Camera Equipment', 'Jewelry',\n",
      "       'Farms', 'Conceptual Art', 'Fantasy', 'Webcomics', 'Experimental',\n",
      "       'Science Fiction', 'Puzzles', 'R&B', 'Music Videos', 'Calendars',\n",
      "       'Video', 'Plays', 'Blues', 'Bacon', 'Faith', 'Live Games',\n",
      "       'Woodworking', 'Places', 'Footwear', '3D Printing', 'Academic',\n",
      "       'Zines', 'Musical', 'Workshops', 'Photo', 'Immersive',\n",
      "       'Letterpress', 'Gaming Hardware', 'Candles', 'Television',\n",
      "       'Space Exploration', 'Couture', 'Nature', 'Robots', 'Typography',\n",
      "       'Crochet', 'Translations', 'Textiles', 'Pottery',\n",
      "       'Interactive Design', 'Video Art', 'Quilts', 'Glass',\n",
      "       'Pet Fashion', 'Printing', 'Romance', 'Civic Design', 'Kids',\n",
      "       'Literary Journals', 'Taxidermy', 'Literary Spaces', 'Chiptune',\n",
      "       'Residencies'], dtype=object)\n",
      "currency labels:   array(['GBP', 'USD', 'CAD', 'AUD', 'NOK', 'EUR', 'MXN', 'SEK', 'NZD',\n",
      "       'CHF', 'DKK', 'HKD', 'SGD', 'JPY'], dtype=object)\n",
      "country labels:   array(['GB', 'US', 'CA', 'AU', 'NO', 'IT', 'DE', 'IE', 'MX', 'ES', 'N,0\"',\n",
      "       'SE', 'FR', 'NL', 'NZ', 'CH', 'AT', 'DK', 'BE', 'HK', 'LU', 'SG',\n",
      "       'JP'], dtype=object)\n",
      "state labels:   array(['failed', 'canceled', 'successful', 'live', 'undefined',\n",
      "       'suspended'], dtype=object)\n"
     ]
    }
   ],
   "source": [
    "for column in [\"main_category\", \"category\", \"currency\", \"country\", \"state\"]:\n",
    "    print(f\"{column} labels:  \", repr(df[column].unique()))"
   ]
  },
  {
   "cell_type": "markdown",
   "metadata": {},
   "source": [
    "Here, the results show that the target `state` column include 6 unique values while the current objective of the project only concerns with the success-failure classification of kickstarters. To adapt the data to this specific problem, I take out data rows with states labeled as `canceled`, `live`, `undefined` and `suspended`. This results in a subset of kickstarter data that only includes `failed` and `successful` labels."
   ]
  },
  {
   "cell_type": "code",
   "execution_count": 6,
   "metadata": {},
   "outputs": [],
   "source": [
    "df = df.loc[df.state.isin([\"failed\", \"successful\"])]"
   ]
  },
  {
   "cell_type": "markdown",
   "metadata": {},
   "source": [
    "To avoid blank space in the column label I rename `usd pledged` to `usd_pledged`:"
   ]
  },
  {
   "cell_type": "code",
   "execution_count": 7,
   "metadata": {},
   "outputs": [],
   "source": [
    "df.rename(index=str, columns={\"usd pledged\": \"usd_pledged\"}, inplace=True)"
   ]
  },
  {
   "cell_type": "markdown",
   "metadata": {},
   "source": [
    "## 4. Check on missing values"
   ]
  },
  {
   "cell_type": "markdown",
   "metadata": {},
   "source": [
    "Now that I have generated some basic information about the data, I take a deeper look into the issues that data might pose and perform data cleaning if needed.\n",
    "\n",
    "I start off by investigating for missing values. The missing (null) values is one of the most common issue with raw data wherein the pandas terminology are basically referred by NaN values. The missing values can be related to when an entry in data is not filled properly, the data entry is not available or there is a computational error. I look at NaN values in pandas data frame by `isnull()` method:"
   ]
  },
  {
   "cell_type": "code",
   "execution_count": 8,
   "metadata": {},
   "outputs": [
    {
     "data": {
      "text/plain": [
       "ID                    0\n",
       "name                  3\n",
       "category              0\n",
       "main_category         0\n",
       "currency              0\n",
       "deadline              0\n",
       "goal                  0\n",
       "launched              0\n",
       "pledged               0\n",
       "state                 0\n",
       "backers               0\n",
       "country               0\n",
       "usd_pledged         210\n",
       "usd_pledged_real      0\n",
       "usd_goal_real         0\n",
       "dtype: int64"
      ]
     },
     "execution_count": 8,
     "metadata": {},
     "output_type": "execute_result"
    }
   ],
   "source": [
    "n_rows_with_nan = df.isnull().sum()\n",
    "n_rows_with_nan"
   ]
  },
  {
   "cell_type": "markdown",
   "metadata": {},
   "source": [
    "Let's compute what percentage of columns contain NaN values:"
   ]
  },
  {
   "cell_type": "code",
   "execution_count": 9,
   "metadata": {},
   "outputs": [
    {
     "data": {
      "text/plain": [
       "array([0.        , 0.0009045 , 0.        , 0.        , 0.        ,\n",
       "       0.        , 0.        , 0.        , 0.        , 0.        ,\n",
       "       0.        , 0.        , 0.06331499, 0.        , 0.        ])"
      ]
     },
     "execution_count": 9,
     "metadata": {},
     "output_type": "execute_result"
    }
   ],
   "source": [
    "n_rows = df.shape[0]\n",
    "nan_percentage = n_rows_with_nan.values / n_rows * 100\n",
    "\n",
    "nan_percentage"
   ]
  },
  {
   "cell_type": "markdown",
   "metadata": {},
   "source": [
    "This shows that the `name` and `usd_pledged` are the only columns that contain null values. Knowing that there exist two separate columns for real used pledged amounts, `usd_pledged` and `used_pledged_real`, the column with missing values can easily be discarded. In the case of the `name` column, hopefully, there are not many missing values included. So, I assume that the dropping rows with null values will not heavily affect the end performance of the modeling. Moving forward, I drop the whole `used_pledged_real` column and any rows with `null` values:"
   ]
  },
  {
   "cell_type": "code",
   "execution_count": 10,
   "metadata": {},
   "outputs": [
    {
     "data": {
      "text/plain": [
       "False"
      ]
     },
     "execution_count": 10,
     "metadata": {},
     "output_type": "execute_result"
    }
   ],
   "source": [
    "df.dropna(axis=0, how=\"any\", subset=[\"name\"], inplace=True)\n",
    "df.drop(axis=1, columns=[\"usd_pledged\"], inplace=True)\n",
    "df.isnull().values.any()"
   ]
  },
  {
   "cell_type": "markdown",
   "metadata": {},
   "source": [
    "## 5. Check on duplicate rows"
   ]
  },
  {
   "cell_type": "markdown",
   "metadata": {},
   "source": [
    "In the next step, I check on the `id`s or `names` columns for duplicate rows. By this, I will try to discard redundant data records."
   ]
  },
  {
   "cell_type": "code",
   "execution_count": 11,
   "metadata": {},
   "outputs": [
    {
     "data": {
      "text/plain": [
       "False"
      ]
     },
     "execution_count": 11,
     "metadata": {},
     "output_type": "execute_result"
    }
   ],
   "source": [
    "n_rows_with_duplicates = df.duplicated(subset=[\"ID\", \"name\"])\n",
    "n_rows_with_duplicates.any()"
   ]
  },
  {
   "cell_type": "markdown",
   "metadata": {},
   "source": [
    "There are no duplicate rows in the data frame."
   ]
  },
  {
   "cell_type": "markdown",
   "metadata": {},
   "source": [
    "## 6. Parse datetime variables\n",
    "\n",
    "The `deadline` and `launched` columns that describe temporal stamps in the data have string `object` type values. Let's cast these two columns to pandas `datatime64` object. Casting temporal values as `datatime64` object is a quite efficient when decomposing temporal data-time data to sub-temporal stamps e.g. getting day, month or year from a 'month/day/year' object. This avoids any string-like processing and is useful when one wants to generate relative time data from absolute time stamps. Dropping the time component of date-time inputs, the following converts the `deadline` and `launched` columns as `datetime64`:"
   ]
  },
  {
   "cell_type": "code",
   "execution_count": 12,
   "metadata": {},
   "outputs": [
    {
     "data": {
      "text/plain": [
       "ID                           int64\n",
       "name                        object\n",
       "category                    object\n",
       "main_category               object\n",
       "currency                    object\n",
       "deadline            datetime64[ns]\n",
       "goal                       float64\n",
       "launched            datetime64[ns]\n",
       "pledged                    float64\n",
       "state                       object\n",
       "backers                      int64\n",
       "country                     object\n",
       "usd_pledged_real           float64\n",
       "usd_goal_real              float64\n",
       "dtype: object"
      ]
     },
     "execution_count": 12,
     "metadata": {},
     "output_type": "execute_result"
    }
   ],
   "source": [
    "df.deadline = pd.to_datetime(df.deadline, format=\"%Y-%m-%d\")\n",
    "df.launched = pd.DataFrame(pd.to_datetime(df.launched, format=\"%Y-%m-%d\"))\n",
    "df.deadline = pd.to_datetime(df.deadline.dt.date)\n",
    "df.launched = pd.to_datetime(df.launched.dt.date)\n",
    "df.dtypes"
   ]
  },
  {
   "cell_type": "markdown",
   "metadata": {},
   "source": []
  },
  {
   "cell_type": "markdown",
   "metadata": {},
   "source": [
    "As another observation, both `launced` and `deadline` columns in the raw data only relate to absolute temporal values, recorded daily. I suppose that daily temporal resolution here could not correlate well to the Kickstarter state prediction problem. To deal with this issue, I add up a delta time variable that encodes the duration of kickstarters. Given that the type of time stamps has been casted to `datetime64`, the kickstarter duration can be easily obtained as follows:"
   ]
  },
  {
   "cell_type": "code",
   "execution_count": 13,
   "metadata": {},
   "outputs": [],
   "source": [
    "df[\"duration\"] = (df.deadline - df.launched)\n",
    "df.duration = df.duration.dt.days.astype(\"float32\")"
   ]
  },
  {
   "cell_type": "markdown",
   "metadata": {},
   "source": [
    "Moreover, I suspect that kickstarter events are more often monthly or seasonal. That is, the season or the month when a kickstarter project starts that can have connections to its success or failure. Per this hypothesis, It is worthy to also consider seasonal and monthly components of `laucned` timestamps into the classification problem. So, let's generate two separate `quarter` and `month` columns that encode kickstarters launch events:"
   ]
  },
  {
   "cell_type": "code",
   "execution_count": 14,
   "metadata": {},
   "outputs": [
    {
     "data": {
      "text/html": [
       "<div>\n",
       "<style scoped>\n",
       "    .dataframe tbody tr th:only-of-type {\n",
       "        vertical-align: middle;\n",
       "    }\n",
       "\n",
       "    .dataframe tbody tr th {\n",
       "        vertical-align: top;\n",
       "    }\n",
       "\n",
       "    .dataframe thead th {\n",
       "        text-align: right;\n",
       "    }\n",
       "</style>\n",
       "<table border=\"1\" class=\"dataframe\">\n",
       "  <thead>\n",
       "    <tr style=\"text-align: right;\">\n",
       "      <th></th>\n",
       "      <th>ID</th>\n",
       "      <th>name</th>\n",
       "      <th>category</th>\n",
       "      <th>main_category</th>\n",
       "      <th>currency</th>\n",
       "      <th>deadline</th>\n",
       "      <th>goal</th>\n",
       "      <th>launched</th>\n",
       "      <th>pledged</th>\n",
       "      <th>state</th>\n",
       "      <th>backers</th>\n",
       "      <th>country</th>\n",
       "      <th>usd_pledged_real</th>\n",
       "      <th>usd_goal_real</th>\n",
       "      <th>duration</th>\n",
       "      <th>month</th>\n",
       "      <th>quarter</th>\n",
       "    </tr>\n",
       "  </thead>\n",
       "  <tbody>\n",
       "    <tr>\n",
       "      <th>0</th>\n",
       "      <td>1000002330</td>\n",
       "      <td>The Songs of Adelaide &amp; Abullah</td>\n",
       "      <td>Poetry</td>\n",
       "      <td>Publishing</td>\n",
       "      <td>GBP</td>\n",
       "      <td>2015-10-09</td>\n",
       "      <td>1000.0</td>\n",
       "      <td>2015-08-11</td>\n",
       "      <td>0.0</td>\n",
       "      <td>failed</td>\n",
       "      <td>0</td>\n",
       "      <td>GB</td>\n",
       "      <td>0.0</td>\n",
       "      <td>1533.95</td>\n",
       "      <td>59.0</td>\n",
       "      <td>8.0</td>\n",
       "      <td>3.0</td>\n",
       "    </tr>\n",
       "    <tr>\n",
       "      <th>1</th>\n",
       "      <td>1000003930</td>\n",
       "      <td>Greeting From Earth: ZGAC Arts Capsule For ET</td>\n",
       "      <td>Narrative Film</td>\n",
       "      <td>Film &amp; Video</td>\n",
       "      <td>USD</td>\n",
       "      <td>2017-11-01</td>\n",
       "      <td>30000.0</td>\n",
       "      <td>2017-09-02</td>\n",
       "      <td>2421.0</td>\n",
       "      <td>failed</td>\n",
       "      <td>15</td>\n",
       "      <td>US</td>\n",
       "      <td>2421.0</td>\n",
       "      <td>30000.00</td>\n",
       "      <td>60.0</td>\n",
       "      <td>9.0</td>\n",
       "      <td>3.0</td>\n",
       "    </tr>\n",
       "    <tr>\n",
       "      <th>2</th>\n",
       "      <td>1000004038</td>\n",
       "      <td>Where is Hank?</td>\n",
       "      <td>Narrative Film</td>\n",
       "      <td>Film &amp; Video</td>\n",
       "      <td>USD</td>\n",
       "      <td>2013-02-26</td>\n",
       "      <td>45000.0</td>\n",
       "      <td>2013-01-12</td>\n",
       "      <td>220.0</td>\n",
       "      <td>failed</td>\n",
       "      <td>3</td>\n",
       "      <td>US</td>\n",
       "      <td>220.0</td>\n",
       "      <td>45000.00</td>\n",
       "      <td>45.0</td>\n",
       "      <td>1.0</td>\n",
       "      <td>1.0</td>\n",
       "    </tr>\n",
       "    <tr>\n",
       "      <th>3</th>\n",
       "      <td>1000007540</td>\n",
       "      <td>ToshiCapital Rekordz Needs Help to Complete Album</td>\n",
       "      <td>Music</td>\n",
       "      <td>Music</td>\n",
       "      <td>USD</td>\n",
       "      <td>2012-04-16</td>\n",
       "      <td>5000.0</td>\n",
       "      <td>2012-03-17</td>\n",
       "      <td>1.0</td>\n",
       "      <td>failed</td>\n",
       "      <td>1</td>\n",
       "      <td>US</td>\n",
       "      <td>1.0</td>\n",
       "      <td>5000.00</td>\n",
       "      <td>30.0</td>\n",
       "      <td>3.0</td>\n",
       "      <td>1.0</td>\n",
       "    </tr>\n",
       "    <tr>\n",
       "      <th>5</th>\n",
       "      <td>1000014025</td>\n",
       "      <td>Monarch Espresso Bar</td>\n",
       "      <td>Restaurants</td>\n",
       "      <td>Food</td>\n",
       "      <td>USD</td>\n",
       "      <td>2016-04-01</td>\n",
       "      <td>50000.0</td>\n",
       "      <td>2016-02-26</td>\n",
       "      <td>52375.0</td>\n",
       "      <td>successful</td>\n",
       "      <td>224</td>\n",
       "      <td>US</td>\n",
       "      <td>52375.0</td>\n",
       "      <td>50000.00</td>\n",
       "      <td>35.0</td>\n",
       "      <td>2.0</td>\n",
       "      <td>1.0</td>\n",
       "    </tr>\n",
       "  </tbody>\n",
       "</table>\n",
       "</div>"
      ],
      "text/plain": [
       "           ID                                               name  \\\n",
       "0  1000002330                    The Songs of Adelaide & Abullah   \n",
       "1  1000003930      Greeting From Earth: ZGAC Arts Capsule For ET   \n",
       "2  1000004038                                     Where is Hank?   \n",
       "3  1000007540  ToshiCapital Rekordz Needs Help to Complete Album   \n",
       "5  1000014025                               Monarch Espresso Bar   \n",
       "\n",
       "         category main_category currency   deadline     goal   launched  \\\n",
       "0          Poetry    Publishing      GBP 2015-10-09   1000.0 2015-08-11   \n",
       "1  Narrative Film  Film & Video      USD 2017-11-01  30000.0 2017-09-02   \n",
       "2  Narrative Film  Film & Video      USD 2013-02-26  45000.0 2013-01-12   \n",
       "3           Music         Music      USD 2012-04-16   5000.0 2012-03-17   \n",
       "5     Restaurants          Food      USD 2016-04-01  50000.0 2016-02-26   \n",
       "\n",
       "   pledged       state  backers country  usd_pledged_real  usd_goal_real  \\\n",
       "0      0.0      failed        0      GB               0.0        1533.95   \n",
       "1   2421.0      failed       15      US            2421.0       30000.00   \n",
       "2    220.0      failed        3      US             220.0       45000.00   \n",
       "3      1.0      failed        1      US               1.0        5000.00   \n",
       "5  52375.0  successful      224      US           52375.0       50000.00   \n",
       "\n",
       "   duration  month  quarter  \n",
       "0      59.0    8.0      3.0  \n",
       "1      60.0    9.0      3.0  \n",
       "2      45.0    1.0      1.0  \n",
       "3      30.0    3.0      1.0  \n",
       "5      35.0    2.0      1.0  "
      ]
     },
     "execution_count": 14,
     "metadata": {},
     "output_type": "execute_result"
    }
   ],
   "source": [
    "df[\"month\"] = df.launched.dt.month.astype(\"float32\")\n",
    "df[\"quarter\"] = df.launched.dt.quarter.astype(\"float32\")\n",
    "df.head()"
   ]
  },
  {
   "cell_type": "markdown",
   "metadata": {},
   "source": [
    "## 7. Check on outliers\n",
    "Having the data formated, let's look at the possible outliers. I analyze the outliers through extreme value analsis via scatter plots and box plots of the continuous variables:"
   ]
  },
  {
   "cell_type": "code",
   "execution_count": 15,
   "metadata": {},
   "outputs": [
    {
     "data": {
      "image/png": "[encoded data removed]",
      "text/plain": [
       "<Figure size 720x432 with 2 Axes>"
      ]
     },
     "metadata": {},
     "output_type": "display_data"
    }
   ],
   "source": [
    "fig, axes = plt.subplots(ncols=2, figsize=(10,6), sharey=True)\n",
    "_ = sns.stripplot(y=\"state\", x=\"goal\", data=df, ax=axes[0], orient=\"h\")\n",
    "_ = sns.stripplot(y=\"state\", x=\"usd_goal_real\", data=df, ax=axes[1], orient=\"h\")"
   ]
  },
  {
   "cell_type": "code",
   "execution_count": 16,
   "metadata": {},
   "outputs": [
    {
     "data": {
      "image/png": "[encoded data removed]",
      "text/plain": [
       "<Figure size 720x432 with 2 Axes>"
      ]
     },
     "metadata": {},
     "output_type": "display_data"
    }
   ],
   "source": [
    "fig, axes = plt.subplots(ncols=2, figsize=(10,6), sharey=True)\n",
    "_ = sns.stripplot(y=\"state\", x=\"pledged\", data=df, ax=axes[0], orient=\"h\")\n",
    "_ = sns.stripplot(y=\"state\", x=\"usd_pledged_real\", data=df, ax=axes[1], orient=\"h\")"
   ]
  },
  {
   "cell_type": "code",
   "execution_count": 17,
   "metadata": {},
   "outputs": [
    {
     "data": {
      "image/png": "[encoded data removed]",
      "text/plain": [
       "<Figure size 360x432 with 1 Axes>"
      ]
     },
     "metadata": {},
     "output_type": "display_data"
    }
   ],
   "source": [
    "fig, axes = plt.subplots(ncols=1, figsize=(5,6), sharey=True)\n",
    "_ = sns.stripplot(y=\"state\", x=\"backers\", data=df, ax=axes, orient=\"h\")"
   ]
  },
  {
   "cell_type": "code",
   "execution_count": 18,
   "metadata": {},
   "outputs": [
    {
     "data": {
      "text/plain": [
       "<matplotlib.axes._subplots.AxesSubplot at 0x7f90ec37e400>"
      ]
     },
     "execution_count": 18,
     "metadata": {},
     "output_type": "execute_result"
    },
    {
     "data": {
      "image/png": "[encoded data removed]",
      "text/plain": [
       "<Figure size 720x576 with 5 Axes>"
      ]
     },
     "metadata": {},
     "output_type": "display_data"
    }
   ],
   "source": [
    "fig, ax = plt.subplots(nrows=(5), figsize=(10,8))\n",
    "sns.boxplot(data = df[[\"goal\"]]\n",
    "            ,orient=\"h\",\n",
    "            palette=\"Set2\",\n",
    "            width=200,\n",
    "            ax=ax[0])\n",
    "sns.boxplot(data = df[[\"goal\"]]\n",
    "            ,orient=\"h\",\n",
    "            palette=\"Set2\",\n",
    "            width=200,\n",
    "            ax=ax[1])\n",
    "sns.boxplot(data = df[[\"usd_goal_real\"]]\n",
    "            ,orient=\"h\",\n",
    "            palette=\"Set2\",\n",
    "            width=200,\n",
    "            ax=ax[2])\n",
    "sns.boxplot(data = df[[\"usd_pledged_real\"]]\n",
    "            ,orient=\"h\",\n",
    "            palette=\"Set2\",\n",
    "            width=200,\n",
    "            ax=ax[3])\n",
    "sns.boxplot(data = df[[\"backers\"]]\n",
    "            ,orient=\"h\",\n",
    "            palette=\"Set2\",\n",
    "            width=200,\n",
    "            ax=ax[4])"
   ]
  },
  {
   "cell_type": "markdown",
   "metadata": {},
   "source": [
    "One can see here that several points exist beyond the upper extreme ranges. This suggests, there are significant amont of outliers and could have have negative effects on the performance of classfication. Not explicitly removing outliers, I will try to address this issue by `sckikt-learn` robust scaler whilde doing data normalization."
   ]
  },
  {
   "cell_type": "markdown",
   "metadata": {},
   "source": [
    "## 8. Encode categorical variables\n",
    "There are 5 variables in the data with categorical values: `category`, `main_category`, `currency`, `country` and `state`. To be able to integrate these variables into the classification problem, they need to be encoded into numerical values. This can be easily achieved by label encoding. I use the Scikit-Learn `LabelEncoder` for label encoding."
   ]
  },
  {
   "cell_type": "code",
   "execution_count": 19,
   "metadata": {},
   "outputs": [],
   "source": [
    "label_encoder = LabelEncoder()\n",
    "df[\"category_code\"] = label_encoder.fit_transform(df.category).astype(\"float32\")\n",
    "df[\"main_category_code\"] = label_encoder.fit_transform(df.main_category).astype(\"float32\")\n",
    "df[\"country_code\"] = label_encoder.fit_transform(df.country).astype(\"float32\")\n",
    "df[\"state_code\"] = label_encoder.fit_transform(df.state)"
   ]
  },
  {
   "cell_type": "markdown",
   "metadata": {},
   "source": [
    "## 9. Drop redundant variables\n",
    "Lstly, I drop the rendundant columns and cast all data variables as `float`."
   ]
  },
  {
   "cell_type": "code",
   "execution_count": 20,
   "metadata": {},
   "outputs": [],
   "source": [
    "df.drop(axis=1, columns=[\n",
    "    \"ID\",\n",
    "    \"name\",\n",
    "    \"launched\",\n",
    "    \"deadline\",\n",
    "    \"currency\",\n",
    "    \"category\", \n",
    "    \"main_category\",\n",
    "    \"country\", \n",
    "    \"state\"\n",
    "], inplace=True)\n",
    "df.backers = df.backers.astype(\"float32\")"
   ]
  },
  {
   "cell_type": "markdown",
   "metadata": {},
   "source": [
    "## 10. Save clean data\n",
    "Reset the index and save the processed data frame as `csv`:"
   ]
  },
  {
   "cell_type": "code",
   "execution_count": 21,
   "metadata": {},
   "outputs": [],
   "source": [
    "df.reset_index(inplace=True)\n",
    "fname = os.path.join(ROOT_DIR, \"kickstarter\", \"data\", \"ext\", \"data_clean.csv\")\n",
    "df.to_csv(fname)"
   ]
  },
  {
   "cell_type": "code",
   "execution_count": 22,
   "metadata": {},
   "outputs": [
    {
     "data": {
      "text/plain": [
       "index                  object\n",
       "goal                  float64\n",
       "pledged               float64\n",
       "backers               float32\n",
       "usd_pledged_real      float64\n",
       "usd_goal_real         float64\n",
       "duration              float32\n",
       "month                 float32\n",
       "quarter               float32\n",
       "category_code         float32\n",
       "main_category_code    float32\n",
       "country_code          float32\n",
       "state_code              int64\n",
       "dtype: object"
      ]
     },
     "execution_count": 22,
     "metadata": {},
     "output_type": "execute_result"
    }
   ],
   "source": [
    "df.dtypes"
   ]
  },
  {
   "cell_type": "code",
   "execution_count": 23,
   "metadata": {},
   "outputs": [
    {
     "data": {
      "text/html": [
       "<div>\n",
       "<style scoped>\n",
       "    .dataframe tbody tr th:only-of-type {\n",
       "        vertical-align: middle;\n",
       "    }\n",
       "\n",
       "    .dataframe tbody tr th {\n",
       "        vertical-align: top;\n",
       "    }\n",
       "\n",
       "    .dataframe thead th {\n",
       "        text-align: right;\n",
       "    }\n",
       "</style>\n",
       "<table border=\"1\" class=\"dataframe\">\n",
       "  <thead>\n",
       "    <tr style=\"text-align: right;\">\n",
       "      <th></th>\n",
       "      <th>index</th>\n",
       "      <th>goal</th>\n",
       "      <th>pledged</th>\n",
       "      <th>backers</th>\n",
       "      <th>usd_pledged_real</th>\n",
       "      <th>usd_goal_real</th>\n",
       "      <th>duration</th>\n",
       "      <th>month</th>\n",
       "      <th>quarter</th>\n",
       "      <th>category_code</th>\n",
       "      <th>main_category_code</th>\n",
       "      <th>country_code</th>\n",
       "      <th>state_code</th>\n",
       "    </tr>\n",
       "  </thead>\n",
       "  <tbody>\n",
       "    <tr>\n",
       "      <th>0</th>\n",
       "      <td>0</td>\n",
       "      <td>1000.0</td>\n",
       "      <td>0.0</td>\n",
       "      <td>0.0</td>\n",
       "      <td>0.0</td>\n",
       "      <td>1533.95</td>\n",
       "      <td>59.0</td>\n",
       "      <td>8.0</td>\n",
       "      <td>3.0</td>\n",
       "      <td>108.0</td>\n",
       "      <td>12.0</td>\n",
       "      <td>9.0</td>\n",
       "      <td>0</td>\n",
       "    </tr>\n",
       "    <tr>\n",
       "      <th>1</th>\n",
       "      <td>1</td>\n",
       "      <td>30000.0</td>\n",
       "      <td>2421.0</td>\n",
       "      <td>15.0</td>\n",
       "      <td>2421.0</td>\n",
       "      <td>30000.00</td>\n",
       "      <td>60.0</td>\n",
       "      <td>9.0</td>\n",
       "      <td>3.0</td>\n",
       "      <td>93.0</td>\n",
       "      <td>6.0</td>\n",
       "      <td>22.0</td>\n",
       "      <td>0</td>\n",
       "    </tr>\n",
       "    <tr>\n",
       "      <th>2</th>\n",
       "      <td>2</td>\n",
       "      <td>45000.0</td>\n",
       "      <td>220.0</td>\n",
       "      <td>3.0</td>\n",
       "      <td>220.0</td>\n",
       "      <td>45000.00</td>\n",
       "      <td>45.0</td>\n",
       "      <td>1.0</td>\n",
       "      <td>1.0</td>\n",
       "      <td>93.0</td>\n",
       "      <td>6.0</td>\n",
       "      <td>22.0</td>\n",
       "      <td>0</td>\n",
       "    </tr>\n",
       "    <tr>\n",
       "      <th>3</th>\n",
       "      <td>3</td>\n",
       "      <td>5000.0</td>\n",
       "      <td>1.0</td>\n",
       "      <td>1.0</td>\n",
       "      <td>1.0</td>\n",
       "      <td>5000.00</td>\n",
       "      <td>30.0</td>\n",
       "      <td>3.0</td>\n",
       "      <td>1.0</td>\n",
       "      <td>90.0</td>\n",
       "      <td>10.0</td>\n",
       "      <td>22.0</td>\n",
       "      <td>0</td>\n",
       "    </tr>\n",
       "    <tr>\n",
       "      <th>4</th>\n",
       "      <td>5</td>\n",
       "      <td>50000.0</td>\n",
       "      <td>52375.0</td>\n",
       "      <td>224.0</td>\n",
       "      <td>52375.0</td>\n",
       "      <td>50000.00</td>\n",
       "      <td>35.0</td>\n",
       "      <td>2.0</td>\n",
       "      <td>1.0</td>\n",
       "      <td>123.0</td>\n",
       "      <td>7.0</td>\n",
       "      <td>22.0</td>\n",
       "      <td>1</td>\n",
       "    </tr>\n",
       "  </tbody>\n",
       "</table>\n",
       "</div>"
      ],
      "text/plain": [
       "  index     goal  pledged  backers  usd_pledged_real  usd_goal_real  duration  \\\n",
       "0     0   1000.0      0.0      0.0               0.0        1533.95      59.0   \n",
       "1     1  30000.0   2421.0     15.0            2421.0       30000.00      60.0   \n",
       "2     2  45000.0    220.0      3.0             220.0       45000.00      45.0   \n",
       "3     3   5000.0      1.0      1.0               1.0        5000.00      30.0   \n",
       "4     5  50000.0  52375.0    224.0           52375.0       50000.00      35.0   \n",
       "\n",
       "   month  quarter  category_code  main_category_code  country_code  state_code  \n",
       "0    8.0      3.0          108.0                12.0           9.0           0  \n",
       "1    9.0      3.0           93.0                 6.0          22.0           0  \n",
       "2    1.0      1.0           93.0                 6.0          22.0           0  \n",
       "3    3.0      1.0           90.0                10.0          22.0           0  \n",
       "4    2.0      1.0          123.0                 7.0          22.0           1  "
      ]
     },
     "execution_count": 23,
     "metadata": {},
     "output_type": "execute_result"
    }
   ],
   "source": [
    "df.head()"
   ]
  },
  {
   "cell_type": "code",
   "execution_count": 24,
   "metadata": {},
   "outputs": [
    {
     "data": {
      "text/plain": [
       "array([0, 1])"
      ]
     },
     "execution_count": 24,
     "metadata": {},
     "output_type": "execute_result"
    }
   ],
   "source": [
    "df.state_code.unique()"
   ]
  },
  {
   "cell_type": "code",
   "execution_count": null,
   "metadata": {},
   "outputs": [],
   "source": []
  }
 ],
 "metadata": {
  "kernelspec": {
   "display_name": "Python [default]",
   "language": "python",
   "name": "python3"
  },
  "language_info": {
   "codemirror_mode": {
    "name": "ipython",
    "version": 3
   },
   "file_extension": ".py",
   "mimetype": "text/x-python",
   "name": "python",
   "nbconvert_exporter": "python",
   "pygments_lexer": "ipython3",
   "version": "3.7.0"
  }
 },
 "nbformat": 4,
 "nbformat_minor": 2
}
